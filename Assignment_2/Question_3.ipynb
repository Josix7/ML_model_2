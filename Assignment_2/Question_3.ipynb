{
  "cells": [
    {
      "cell_type": "code",
      "execution_count": 6,
      "metadata": {
        "colab": {
          "base_uri": "https://localhost:8080/"
        },
        "id": "MjFLFQyZpd7w",
        "outputId": "011769b4-853a-4333-b614-830b54bf387e"
      },
      "outputs": [
        {
          "name": "stdout",
          "output_type": "stream",
          "text": [
            "Running Baseline Perceptron for Iris-setosa vs Iris-versicolor...\n",
            "Baseline Perceptron converged in 4 iterations.\n",
            "Final weights: [-1.3 -4.1  5.2  2.2]\n",
            "Final bias: -1\n",
            "Iterations: 4\n",
            "Running Kernelized Perceptron for Iris-setosa vs Iris-versicolor...\n",
            "Kernelized Perceptron converged in 100000 iterations.\n",
            "Final weights: [-1.3 -4.1  5.2  2.2]\n",
            "Final bias: -5000000\n",
            "Iterations: 100000\n"
          ]
        }
      ],
      "source": [
        "import pandas as pd\n",
        "import numpy as np\n",
        "import sklearn.metrics.pairwise as kernel_lib\n",
        "\n",
        "# Load the dataset\n",
        "df = pd.read_csv('https://archive.ics.uci.edu/ml/machine-learning-databases/iris/iris.data', header=None)\n",
        "\n",
        "# Dataset preparation for Iris-setosa vs Iris-versicolor\n",
        "num_features = 4\n",
        "start_index = 0  # For Iris-setosa vs Iris-versicolor, start at index 0\n",
        "end_index = 100  # For Iris-setosa vs Iris-versicolor, use up to index 100\n",
        "y = df.iloc[start_index:end_index, num_features].values\n",
        "y = np.array(y)\n",
        "y = np.where(y == 'Iris-setosa', -1, 1)  # Convert labels to +1 and -1\n",
        "X = df.iloc[start_index:end_index, :num_features].values\n",
        "\n",
        "# Baseline Perceptron implementation\n",
        "def baseline_perceptron(X, Y):\n",
        "    max_iter = 100000\n",
        "    w = np.zeros(X.shape[1])  # Initialize weights to zero\n",
        "    b = 0  # Initialize bias to zero\n",
        "    i = 0  # Epoch counter\n",
        "    for epoch in range(max_iter):\n",
        "        mistakes = 0\n",
        "        for j in range(X.shape[0]):\n",
        "            activation = np.dot(w, X[j]) + b  # Compute activation\n",
        "            if Y[j] * activation <= 0:  # If a mistake is made\n",
        "                w = w + Y[j] * X[j]  # Update weights\n",
        "                b = b + Y[j]  # Update bias\n",
        "                mistakes += 1\n",
        "        i += 1\n",
        "        if mistakes == 0:  # If no mistakes in an epoch, exit early\n",
        "            break\n",
        "    print(f\"Baseline Perceptron converged in {i} iterations.\")\n",
        "    return w, b, i\n",
        "\n",
        "# Kernelized Perceptron implementation\n",
        "def kernelized_perceptron(X, Y):\n",
        "    max_iter = 100000\n",
        "    K = kernel_lib.polynomial_kernel(X, X, degree=25)  # Polynomial kernel of degree 25\n",
        "    alpha = np.zeros(X.shape[0])  # Initialize alpha to zero for all examples\n",
        "    b = 0  # Initialize bias to zero\n",
        "    i = 0  # Epoch counter\n",
        "    for epoch in range(max_iter):\n",
        "        mistakes = 0\n",
        "        for j in range(X.shape[0]):\n",
        "            activation = np.sum(alpha * Y * K[:, j]) + b  # Compute activation\n",
        "            if Y[j] * activation <= 0:  # If a mistake is made\n",
        "                alpha[j] += Y[j]  # Update alpha\n",
        "                b += Y[j]  # Update bias\n",
        "                mistakes += 1\n",
        "\n",
        "        i += 1\n",
        "        if mistakes == 0:  # If no mistakes in an epoch, exit early\n",
        "            break\n",
        "    print(f\"Kernelized Perceptron converged in {i} iterations.\")\n",
        "    return alpha, b, i\n",
        "\n",
        "# Run Baseline Perceptron for Iris-setosa vs Iris-versicolor\n",
        "print(\"Running Baseline Perceptron for Iris-setosa vs Iris-versicolor...\")\n",
        "w, b, iterations = baseline_perceptron(X, y)\n",
        "\n",
        "print(\"Final weights:\", w)\n",
        "print(\"Final bias:\", b)\n",
        "print(\"Iterations:\", iterations)\n",
        "\n",
        "# Run Kernelized Perceptron for Iris-setosa vs Iris-versicolor\n",
        "print(\"Running Kernelized Perceptron for Iris-setosa vs Iris-versicolor...\")\n",
        "alpha, b, iterations = kernelized_perceptron(X, y)\n",
        "\n",
        "print(\"Final weights:\", w)\n",
        "print(\"Final bias:\", b)\n",
        "print(\"Iterations:\", iterations)\n",
        "\n",
        "\n"
      ]
    },
    {
      "cell_type": "code",
      "execution_count": null,
      "metadata": {
        "id": "ekO3j62eQd-p"
      },
      "outputs": [],
      "source": []
    }
  ],
  "metadata": {
    "colab": {
      "provenance": []
    },
    "kernelspec": {
      "display_name": "Python 3",
      "name": "python3"
    },
    "language_info": {
      "name": "python"
    }
  },
  "nbformat": 4,
  "nbformat_minor": 0
}
